{
 "cells": [
  {
   "cell_type": "code",
   "execution_count": 13,
   "id": "4626bfc9",
   "metadata": {},
   "outputs": [],
   "source": [
    "class MyClass:\n",
    "    def __init__(self,name,city,Roll):\n",
    "        self.name=name\n",
    "        self.city=city\n",
    "        self.roll=Roll\n",
    "        \n",
    "c=MyClass(\"shubhangi\",\"kagal\",1)\n",
    "\n",
    "\n",
    "\n",
    "class MyClass1:\n",
    "    def __init__(self,name,city):\n",
    "        self.name=name\n",
    "        self.city=city\n",
    "        \n",
    "d=MyClass1(\"snehal\",\"sarud\")\n",
    "    "
   ]
  },
  {
   "cell_type": "code",
   "execution_count": 14,
   "id": "c478f7d7",
   "metadata": {},
   "outputs": [
    {
     "data": {
      "text/plain": [
       "'shubhangi'"
      ]
     },
     "execution_count": 14,
     "metadata": {},
     "output_type": "execute_result"
    }
   ],
   "source": [
    "c.name"
   ]
  },
  {
   "cell_type": "code",
   "execution_count": 15,
   "id": "202b9901",
   "metadata": {},
   "outputs": [
    {
     "data": {
      "text/plain": [
       "1"
      ]
     },
     "execution_count": 15,
     "metadata": {},
     "output_type": "execute_result"
    }
   ],
   "source": [
    "c.roll\n"
   ]
  },
  {
   "cell_type": "code",
   "execution_count": 16,
   "id": "47ba6245",
   "metadata": {},
   "outputs": [
    {
     "data": {
      "text/plain": [
       "'snehal'"
      ]
     },
     "execution_count": 16,
     "metadata": {},
     "output_type": "execute_result"
    }
   ],
   "source": [
    "d.name"
   ]
  },
  {
   "cell_type": "code",
   "execution_count": 17,
   "id": "19e45804",
   "metadata": {},
   "outputs": [
    {
     "data": {
      "text/plain": [
       "'sarud'"
      ]
     },
     "execution_count": 17,
     "metadata": {},
     "output_type": "execute_result"
    }
   ],
   "source": [
    "d.city"
   ]
  },
  {
   "cell_type": "code",
   "execution_count": 18,
   "id": "ade8094e",
   "metadata": {},
   "outputs": [
    {
     "data": {
      "text/plain": [
       "'kagal'"
      ]
     },
     "execution_count": 18,
     "metadata": {},
     "output_type": "execute_result"
    }
   ],
   "source": [
    "c.city"
   ]
  },
  {
   "cell_type": "code",
   "execution_count": 19,
   "id": "7404b0ae",
   "metadata": {},
   "outputs": [
    {
     "data": {
      "text/plain": [
       "1"
      ]
     },
     "execution_count": 19,
     "metadata": {},
     "output_type": "execute_result"
    }
   ],
   "source": [
    "c.roll"
   ]
  },
  {
   "cell_type": "code",
   "execution_count": null,
   "id": "a751a95d",
   "metadata": {},
   "outputs": [],
   "source": []
  }
 ],
 "metadata": {
  "kernelspec": {
   "display_name": "Python 3",
   "language": "python",
   "name": "python3"
  },
  "language_info": {
   "codemirror_mode": {
    "name": "ipython",
    "version": 3
   },
   "file_extension": ".py",
   "mimetype": "text/x-python",
   "name": "python",
   "nbconvert_exporter": "python",
   "pygments_lexer": "ipython3",
   "version": "3.8.8"
  }
 },
 "nbformat": 4,
 "nbformat_minor": 5
}
